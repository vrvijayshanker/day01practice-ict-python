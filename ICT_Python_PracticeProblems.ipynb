{
  "nbformat": 4,
  "nbformat_minor": 0,
  "metadata": {
    "colab": {
      "provenance": [],
      "toc_visible": true,
      "authorship_tag": "ABX9TyNQubJtcDE68kX43f+cWME7",
      "include_colab_link": true
    },
    "kernelspec": {
      "name": "python3",
      "display_name": "Python 3"
    },
    "language_info": {
      "name": "python"
    }
  },
  "cells": [
    {
      "cell_type": "markdown",
      "metadata": {
        "id": "view-in-github",
        "colab_type": "text"
      },
      "source": [
        "<a href=\"https://colab.research.google.com/github/vrvijayshanker/day01practice-ict-python/blob/main/ICT_Python_PracticeProblems.ipynb\" target=\"_parent\"><img src=\"https://colab.research.google.com/assets/colab-badge.svg\" alt=\"Open In Colab\"/></a>"
      ]
    },
    {
      "cell_type": "markdown",
      "source": [
        "#Solutions - Day 01 - Practice Questions"
      ],
      "metadata": {
        "id": "g92zpO1hjDoC"
      }
    },
    {
      "cell_type": "markdown",
      "source": [
        "## Question 01\n",
        "Given the string \"Hello, World!\", extract and print the\n",
        "substring \"Hello\"."
      ],
      "metadata": {
        "id": "4-NwH3-LhtzY"
      }
    },
    {
      "cell_type": "code",
      "execution_count": null,
      "metadata": {
        "colab": {
          "base_uri": "https://localhost:8080/"
        },
        "id": "qN_pBDVcgwoN",
        "outputId": "a35d5257-dd2f-44da-87cd-219ed31cab4d"
      },
      "outputs": [
        {
          "output_type": "stream",
          "name": "stdout",
          "text": [
            "Hello\n"
          ]
        }
      ],
      "source": [
        "str01 = \"Hello World!\"\n",
        "print(str01[:5])"
      ]
    },
    {
      "cell_type": "markdown",
      "source": [
        "## Question 02\n",
        "Given the string \"Python is fun\", extract and print the\n",
        "substring \"is\"."
      ],
      "metadata": {
        "id": "T0fXQu9_hy1n"
      }
    },
    {
      "cell_type": "code",
      "source": [
        "str02 = \"Python is fun\"\n",
        "print(str02[7:9])"
      ],
      "metadata": {
        "colab": {
          "base_uri": "https://localhost:8080/"
        },
        "id": "Pl1DUN4Lh1fH",
        "outputId": "dd68d138-822e-49ad-ad93-ca5c72166ed2"
      },
      "execution_count": null,
      "outputs": [
        {
          "output_type": "stream",
          "name": "stdout",
          "text": [
            "is\n"
          ]
        }
      ]
    },
    {
      "cell_type": "markdown",
      "source": [
        "## Question 03\n",
        "Given the string \"Programming\", extract and print the\n",
        "substring \"gram\" using slicing indices."
      ],
      "metadata": {
        "id": "3-uctsd0iJqB"
      }
    },
    {
      "cell_type": "code",
      "source": [
        "str03 = \"Programming\"\n",
        "print(str03[3:7])"
      ],
      "metadata": {
        "colab": {
          "base_uri": "https://localhost:8080/"
        },
        "id": "src_nFCliNRi",
        "outputId": "e25c90cf-e22d-43cd-a449-6562c0a296a4"
      },
      "execution_count": null,
      "outputs": [
        {
          "output_type": "stream",
          "name": "stdout",
          "text": [
            "gram\n"
          ]
        }
      ]
    },
    {
      "cell_type": "markdown",
      "source": [
        "## Question 04\n",
        "Given the string \"abcdefgh\", use slicing to print only the\n",
        "characters at even indices."
      ],
      "metadata": {
        "id": "GxYN2fCHigRU"
      }
    },
    {
      "cell_type": "code",
      "source": [
        "str04 = \"abcdefgh\"\n",
        "print(str04[1::2])"
      ],
      "metadata": {
        "colab": {
          "base_uri": "https://localhost:8080/"
        },
        "id": "qRCZh0OfinOe",
        "outputId": "9460de46-3298-4670-e400-a0e19cedfe26"
      },
      "execution_count": null,
      "outputs": [
        {
          "output_type": "stream",
          "name": "stdout",
          "text": [
            "bdfh\n"
          ]
        }
      ]
    },
    {
      "cell_type": "markdown",
      "source": [
        "## Question 05\n",
        "Given the string \"abcdefg\", use negative indices to extract\n",
        "and print the substring \"efg\"."
      ],
      "metadata": {
        "id": "uMmUAyVMi_Gy"
      }
    },
    {
      "cell_type": "code",
      "source": [
        "str05 = \"abcdefg\"\n",
        "print(str05[-3:])"
      ],
      "metadata": {
        "colab": {
          "base_uri": "https://localhost:8080/"
        },
        "id": "aMNuFVw-jBYq",
        "outputId": "dd824dba-fd19-4d0f-8853-868d4aca66ac"
      },
      "execution_count": null,
      "outputs": [
        {
          "output_type": "stream",
          "name": "stdout",
          "text": [
            "efg\n"
          ]
        }
      ]
    },
    {
      "cell_type": "markdown",
      "source": [
        "## Question 06\n",
        "Given the string \"Data Science\", use negative indices to\n",
        "extract and print the last three characters."
      ],
      "metadata": {
        "id": "iXeURNuXkflX"
      }
    },
    {
      "cell_type": "code",
      "source": [
        "str06 = \"Data Science\"\n",
        "print(str06[-3:])"
      ],
      "metadata": {
        "colab": {
          "base_uri": "https://localhost:8080/"
        },
        "id": "lkvKDt8-kju2",
        "outputId": "1a3b0664-c612-4372-c3ef-51cfd25b0f40"
      },
      "execution_count": null,
      "outputs": [
        {
          "output_type": "stream",
          "name": "stdout",
          "text": [
            "nce\n"
          ]
        }
      ]
    },
    {
      "cell_type": "markdown",
      "source": [
        "## Question 07\n",
        "Given the string \"abcdefghij\", use slicing with a step to\n",
        "print every second character."
      ],
      "metadata": {
        "id": "m4_DVrVMsohJ"
      }
    },
    {
      "cell_type": "code",
      "source": [
        "str07 = \"abcdefghij\"\n",
        "print(str07[::2])"
      ],
      "metadata": {
        "colab": {
          "base_uri": "https://localhost:8080/"
        },
        "id": "cAm3jCHJsuk5",
        "outputId": "71eb4a8d-53a9-42df-9e5d-de6f633c6651"
      },
      "execution_count": null,
      "outputs": [
        {
          "output_type": "stream",
          "name": "stdout",
          "text": [
            "acegi\n"
          ]
        }
      ]
    },
    {
      "cell_type": "markdown",
      "source": [
        "## Question 08\n",
        "Given the string \"1234567890\", use slicing with a step to\n",
        "print the odd digits."
      ],
      "metadata": {
        "id": "jhMVXik4tWoY"
      }
    },
    {
      "cell_type": "code",
      "source": [
        "str08 = \"1234567890\"\n",
        "print(str08[::2])"
      ],
      "metadata": {
        "colab": {
          "base_uri": "https://localhost:8080/"
        },
        "id": "-4Yb9JV9te15",
        "outputId": "b849da69-b7c1-4347-845b-7a76f2d03def"
      },
      "execution_count": null,
      "outputs": [
        {
          "output_type": "stream",
          "name": "stdout",
          "text": [
            "13579\n"
          ]
        }
      ]
    },
    {
      "cell_type": "markdown",
      "source": [
        "## Question 09\n",
        "Given the string \"Hello\", use slicing to print the string in\n",
        "reverse order."
      ],
      "metadata": {
        "id": "b8EQ4An0ttE6"
      }
    },
    {
      "cell_type": "code",
      "source": [
        "str09 = \"Hello\"\n",
        "print(str09[-1::-1])"
      ],
      "metadata": {
        "colab": {
          "base_uri": "https://localhost:8080/"
        },
        "id": "cN6mPqZYtzTw",
        "outputId": "51c9a4eb-5cde-4085-c5f6-287c966dae42"
      },
      "execution_count": null,
      "outputs": [
        {
          "output_type": "stream",
          "name": "stdout",
          "text": [
            "olleH\n"
          ]
        }
      ]
    },
    {
      "cell_type": "markdown",
      "source": [
        "## Question 10\n",
        "Given the string \"abcdefghijk\", extract and print the\n",
        "substring \"acegik\" using slicing."
      ],
      "metadata": {
        "id": "MxbQEga4uNfW"
      }
    },
    {
      "cell_type": "code",
      "source": [
        "str10 = \"abcdefghijk\"\n",
        "print(str10[::2])"
      ],
      "metadata": {
        "colab": {
          "base_uri": "https://localhost:8080/"
        },
        "id": "OPLzM3m9uUTU",
        "outputId": "24b591a6-dd9a-4005-9592-6907b9e1edd4"
      },
      "execution_count": null,
      "outputs": [
        {
          "output_type": "stream",
          "name": "stdout",
          "text": [
            "acegik\n"
          ]
        }
      ]
    }
  ]
}